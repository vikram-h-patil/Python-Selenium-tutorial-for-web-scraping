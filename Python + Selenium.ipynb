{
 "cells": [
  {
   "cell_type": "markdown",
   "metadata": {},
   "source": [
    "# Python + Selenium tutorial for web scraping\n",
    "\n",
    "## Tools required:\n",
    "\n",
    "* Install selenium using pip (pip install selenium)\n",
    "* Download selenium driver link: https://chromedriver.chromium.org/downloads\n"
   ]
  },
  {
   "cell_type": "markdown",
   "metadata": {},
   "source": [
    "### Instructions on how to setup driver :"
   ]
  },
  {
   "attachments": {},
   "cell_type": "markdown",
   "metadata": {},
   "source": [
    "###  1 - Check chrome settings\n",
    "\n",
    "goto chorme > setttigns > about \n",
    "\n",
    "![](images/image_1.PNG)"
   ]
  },
  {
   "cell_type": "markdown",
   "metadata": {},
   "source": [
    "### 2- From above, my version is 78, downlaod respective driver from website: https://chromedriver.chromium.org/downloads"
   ]
  },
  {
   "attachments": {},
   "cell_type": "markdown",
   "metadata": {},
   "source": [
    "### 3- Dowload this driver into one folder and unzip\n",
    "\n",
    "![](images/image_2.PNG)"
   ]
  },
  {
   "attachments": {},
   "cell_type": "markdown",
   "metadata": {},
   "source": [
    "\n",
    "### 4-In next step pass this folder link to driver"
   ]
  },
  {
   "cell_type": "code",
   "execution_count": 17,
   "metadata": {},
   "outputs": [],
   "source": [
    "import time\n",
    "from selenium import webdriver"
   ]
  },
  {
   "cell_type": "markdown",
   "metadata": {},
   "source": [
    "### 5- Next step open the required website and get the element ID"
   ]
  },
  {
   "attachments": {},
   "cell_type": "markdown",
   "metadata": {},
   "source": [
    "![](images/image_3.PNG)"
   ]
  },
  {
   "cell_type": "markdown",
   "metadata": {},
   "source": [
    "### 6- Make sure the element xpath is copied"
   ]
  },
  {
   "attachments": {},
   "cell_type": "markdown",
   "metadata": {},
   "source": [
    "![](images/image_4.PNG)"
   ]
  },
  {
   "cell_type": "markdown",
   "metadata": {},
   "source": [
    "### 7- next step, provide the URL and driver location"
   ]
  },
  {
   "cell_type": "code",
   "execution_count": 18,
   "metadata": {},
   "outputs": [],
   "source": [
    "# provide the driver URL\n",
    "driver = webdriver.Chrome(executable_path=r\"C:**\\Desktop\\Python\\chrome_driver\\chromedriver.exe\") \n",
    "\n",
    "#provide the url which needs to be scraped\n",
    "driver.get('https://www.oddsportal.com/american-football/usa/nfl/')\n",
    "\n",
    "\n"
   ]
  },
  {
   "cell_type": "code",
   "execution_count": 13,
   "metadata": {},
   "outputs": [],
   "source": [
    "listOfElements2 = driver.find_element_by_xpath(' //*[@id=\"tournamentTable\"]/tbody/tr[4]/td[2] ')\n",
    "# above step access the element and print the output in next cell"
   ]
  },
  {
   "cell_type": "code",
   "execution_count": 14,
   "metadata": {},
   "outputs": [
    {
     "data": {
      "text/plain": [
       "'Cleveland Browns - Pittsburgh Steelers'"
      ]
     },
     "execution_count": 14,
     "metadata": {},
     "output_type": "execute_result"
    }
   ],
   "source": [
    "listOfElements2.text"
   ]
  },
  {
   "cell_type": "markdown",
   "metadata": {},
   "source": [
    "### Next , if we want all the rows present in the page, then we need to find the element which is common in every name of the match and iterate over\n",
    "\n",
    "### For example, if we want below output"
   ]
  },
  {
   "attachments": {},
   "cell_type": "markdown",
   "metadata": {},
   "source": [
    "![](images/image_5.PNG)"
   ]
  },
  {
   "attachments": {},
   "cell_type": "markdown",
   "metadata": {},
   "source": [
    "![](images/image_6.PNG)"
   ]
  },
  {
   "cell_type": "code",
   "execution_count": 27,
   "metadata": {},
   "outputs": [
    {
     "name": "stdout",
     "output_type": "stream",
     "text": [
      "Baltimore Ravens - Houston Texans\n",
      "Carolina Panthers - Atlanta Falcons\n",
      "Detroit Lions - Dallas Cowboys\n",
      "Indianapolis Colts - Jacksonville Jaguars\n",
      "Miami Dolphins - Buffalo Bills\n",
      "Minnesota Vikings - Denver Broncos\n",
      "Tampa Bay Buccaneers - New Orleans Saints\n",
      "Washington Redskins - New York Jets\n",
      "San Francisco 49ers - Arizona Cardinals\n",
      "Oakland Raiders - Cincinnati Bengals\n",
      "Philadelphia Eagles - New England Patriots\n",
      "Los Angeles Rams - Chicago Bears\n",
      "Los Angeles Chargers - Kansas City Chiefs\n",
      " \n",
      "Houston Texans - Indianapolis Colts\n",
      "Atlanta Falcons - Tampa Bay Buccaneers\n",
      "Buffalo Bills - Denver Broncos\n",
      "Chicago Bears - New York Giants\n",
      "Cincinnati Bengals - Pittsburgh Steelers\n",
      "Cleveland Browns - Miami Dolphins\n",
      "New Orleans Saints - Carolina Panthers\n",
      "New York Jets - Oakland Raiders\n",
      "Philadelphia Eagles - Seattle Seahawks\n",
      "Tennessee Titans - Jacksonville Jaguars\n",
      "New England Patriots - Dallas Cowboys\n",
      "San Francisco 49ers - Green Bay Packers\n",
      "Los Angeles Rams - Baltimore Ravens\n",
      "Detroit Lions - Chicago Bears\n",
      "Dallas Cowboys - Buffalo Bills\n",
      "Atlanta Falcons - New Orleans Saints\n"
     ]
    }
   ],
   "source": [
    "select_all_games='//td[@class=\"name table-participant\"]' # pass the xpath identifier here\n",
    "\n",
    "for each_game in driver.find_elements_by_xpath(select_all_games):\n",
    "    # print the output\n",
    "    print(each_game.text)\n"
   ]
  },
  {
   "cell_type": "code",
   "execution_count": 28,
   "metadata": {},
   "outputs": [],
   "source": [
    "\n",
    "driver.quit()  # to end the session"
   ]
  },
  {
   "cell_type": "code",
   "execution_count": null,
   "metadata": {},
   "outputs": [],
   "source": []
  },
  {
   "cell_type": "code",
   "execution_count": null,
   "metadata": {},
   "outputs": [],
   "source": []
  }
 ],
 "metadata": {
  "kernelspec": {
   "display_name": "Python 3",
   "language": "python",
   "name": "python3"
  },
  "language_info": {
   "codemirror_mode": {
    "name": "ipython",
    "version": 3
   },
   "file_extension": ".py",
   "mimetype": "text/x-python",
   "name": "python",
   "nbconvert_exporter": "python",
   "pygments_lexer": "ipython3",
   "version": "3.6.7"
  }
 },
 "nbformat": 4,
 "nbformat_minor": 2
}
